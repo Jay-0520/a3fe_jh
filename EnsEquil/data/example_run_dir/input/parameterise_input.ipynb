{
 "cells": [
  {
   "cell_type": "markdown",
   "metadata": {},
   "source": [
    "# Parameterisation and Assembly"
   ]
  },
  {
   "cell_type": "markdown",
   "metadata": {},
   "source": [
    "This notebook parameterises a supplied ligand, loads parameterised AMBER input files for the protein and crystallographic waters, and assembles the components into the parameterised input files required by EnsEquil."
   ]
  },
  {
   "cell_type": "code",
   "execution_count": null,
   "metadata": {},
   "outputs": [],
   "source": [
    "import BioSimSpace as BSS"
   ]
  },
  {
   "cell_type": "markdown",
   "metadata": {},
   "source": [
    "### Parameterise the Ligand"
   ]
  },
  {
   "cell_type": "code",
   "execution_count": null,
   "metadata": {},
   "outputs": [],
   "source": [
    "lig = BSS.IO.readMolecules(\"lig.sdf\")[0]\n",
    "lig_param = BSS.Parameters.openff_unconstrained_2_0_0(lig).getMolecule()\n",
    "BSS.IO.saveMolecules(\"lig_param\", lig_param, [\"prm7\", \"rst7\"])"
   ]
  },
  {
   "cell_type": "markdown",
   "metadata": {},
   "source": [
    "### Assemble Components and Save"
   ]
  },
  {
   "cell_type": "code",
   "execution_count": null,
   "metadata": {},
   "outputs": [],
   "source": [
    "prot = BSS.IO.readMolecules([\"protein.parm7\", \"protein.rst7\"])\n",
    "lig = BSS.IO.readMolecules([\"lig_param.prm7\", \"lig_param.rst7\"])\n",
    "waters = BSS.IO.readMolecules([\"water.parm7\", \"water.rst7\"])\n",
    "bound_sys = lig + prot + waters\n",
    "free_sys = lig\n",
    "BSS.IO.saveMolecules(\"bound_param\", bound_sys, [\"prm7\", \"rst7\"])\n",
    "BSS.IO.saveMolecules(\"free_param\", free_sys, [\"prm7\", \"rst7\"])"
   ]
  },
  {
   "cell_type": "markdown",
   "metadata": {},
   "source": [
    "# NOW MANUALLY CHANGE NAME OF THE LIGAND FROM MOL TO LIG in bound_param.prm7 and free_param.prm7"
   ]
  }
 ],
 "metadata": {
  "interpreter": {
   "hash": "4d329d95e13aafe6848b82069afd3c3e6f88bdcde9d09021342924340efac42d"
  },
  "kernelspec": {
   "display_name": "Python 3.9.16 64-bit (conda)",
   "name": "python3"
  },
  "language_info": {
   "codemirror_mode": {
    "name": "ipython",
    "version": 3
   },
   "file_extension": ".py",
   "mimetype": "text/x-python",
   "name": "python",
   "nbconvert_exporter": "python",
   "pygments_lexer": "ipython3",
   "version": "3.9.16"
  },
  "orig_nbformat": 4
 },
 "nbformat": 4,
 "nbformat_minor": 2
}
